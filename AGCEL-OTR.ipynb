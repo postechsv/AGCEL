{
 "cells": [
  {
   "cell_type": "code",
   "execution_count": 1,
   "id": "d7405358",
   "metadata": {},
   "outputs": [
    {
     "name": "stdout",
     "output_type": "stream",
     "text": [
      "Using MAIN module\n"
     ]
    }
   ],
   "source": [
    "import maude\n",
    "\n",
    "model = './benchmarks/onethirdrule/onethirdrule-hs.maude'\n",
    "maude.init()\n",
    "maude.load(model)\n",
    "m = maude.getCurrentModule()\n",
    "print('Using', m, 'module')"
   ]
  },
  {
   "cell_type": "code",
   "execution_count": 2,
   "id": "ff7bede2",
   "metadata": {},
   "outputs": [
    {
     "name": "stdout",
     "output_type": "stream",
     "text": [
      "{'state': {2,0 ; 1, \"A\" ; \"B\" ; \"C\" ; \"D\", < \"A\" : Node | status : [1, init], value : 0, decision : nil, votes : [0 |-> 0 ; 1 |-> 0, 0] > < \"B\" : Node | status : [1, init], value : 1, decision : nil, votes : [0 |-> 0 ; 1 |-> 0, 0] > < \"C\" : Node | status : [1, init], value : 1, decision : nil, votes : [0 |-> 0 ; 1 |-> 0, 0] > < \"D\" : Node | status : [1, init], value : 0, decision : nil, votes : [0 |-> 0 ; 1 |-> 0, 0] >}, 'astate': aobj(init, least, nil) aobj(init, rest, nil), 'actions': [<label: vote, asubs: None>, <label: vote, asubs: None>, <label: vote, asubs: None>, <label: vote, asubs: None>]}\n"
     ]
    }
   ],
   "source": [
    "from AGCEL.MaudeEnv import MaudeEnv\n",
    "\n",
    "env = MaudeEnv(m,'disagree',lambda : 'init4',abst_mode='label')\n",
    "print(env.get_obs())"
   ]
  },
  {
   "cell_type": "code",
   "execution_count": 4,
   "id": "ac7644d7",
   "metadata": {},
   "outputs": [
    {
     "name": "stdout",
     "output_type": "stream",
     "text": [
      "training done!\n",
      "80\n",
      "{aobj(wait, least, nil) aobj(wait, rest, nil) aobj(done, rest, rest): {<label: decide, asubs: None>: 0.6095098015299999, <label: receive, asubs: None>: 0.9498486962360697, <label: loss, asubs: None>: 0.9498483364475387, <label: update, asubs: None>: 0.9020258629126188}, aobj(wait, least, nil) aobj(done, rest, rest): {<label: decide, asubs: None>: 0.99757, <label: loss, asubs: None>: 0.947198476267991, <label: update, asubs: None>: 0.67366764325, <label: receive, asubs: None>: 0.9369723649999999}, aobj(wait, least, nil) aobj(wait, rest, nil): {<label: decide, asubs: None>: 0.7630392903291408, <label: loss, asubs: None>: 0.9001293646835754, <label: receive, asubs: None>: 0.9004268711274849, <label: update, asubs: None>: 0.8149080138416798}, aobj(init, least, nil) aobj(wait, least, nil) aobj(done, rest, rest): {<label: vote, asubs: None>: 0.9418264109408616, <label: loss, asubs: None>: 0.8787448974069489, <label: receive, asubs: None>: 0.8452606628105472, <label: decide, asubs: None>: 0.273, <label: update, asubs: None>: 0.673848282184037}, aobj(init, least, nil) aobj(wait, least, nil) aobj(wait, rest, nil): {<label: vote, asubs: None>: 0.8791000824656556, <label: loss, asubs: None>: 0.7961586532744703, <label: receive, asubs: None>: 0.8163448427667869, <label: decide, asubs: None>: 0.771393820403113, <label: update, asubs: None>: 0.6100350234961611}, aobj(init, least, nil) aobj(init, rest, nil) aobj(wait, least, nil) aobj(wait, rest, nil): {<label: vote, asubs: None>: 0.8351749948327561, <label: receive, asubs: None>: 0.779451494373488, <label: update, asubs: None>: 0.7431949774608898, <label: loss, asubs: None>: 0.7910526842945738}, aobj(init, least, nil) aobj(wait, least, nil) aobj(wait, rest, nil) aobj(done, rest, rest): {<label: vote, asubs: None>: 0.9498376280361527, <label: loss, asubs: None>: 0.9004755945325429, <label: receive, asubs: None>: 0.3604797087499998, <label: decide, asubs: None>: 0.6991139000855766, <label: update, asubs: None>: 0.8353702051956946}, aobj(init, least, nil) aobj(wait, rest, nil): {<label: vote, asubs: None>: 0.814805978691744, <label: loss, asubs: None>: 0.7741117551094345, <label: receive, asubs: None>: 0.7623511204921023, <label: decide, asubs: None>: 0.7306153686530905, <label: update, asubs: None>: 0.7499366196345882}, aobj(init, least, nil) aobj(init, rest, nil) aobj(wait, rest, nil): {<label: vote, asubs: None>: 0.7547573393629721, <label: loss, asubs: None>: 0.7132567822372615, <label: receive, asubs: None>: 0.4700901571215743}, aobj(init, least, nil) aobj(init, rest, nil) aobj(wait, least, nil): {<label: vote, asubs: None>: 0.8070819988638803, <label: loss, asubs: None>: 0.726591435495647, <label: receive, asubs: None>: 0.51952732234293, <label: update, asubs: None>: 0.51952732234293}, aobj(init, least, nil) aobj(init, rest, nil): {<label: vote, asubs: None>: 0.7238632353227016}, aobj(wait, least, nil) aobj(wait, rest, nil) aobj(done, least, least): {<label: decide, asubs: None>: 0.6483600596323094, <label: loss, asubs: None>: 0.6847747832103961, <label: update, asubs: None>: 0.046606463694334535, <label: receive, asubs: None>: 0.7198233522052195}, aobj(init, least, nil) aobj(wait, least, nil) aobj(wait, rest, nil) aobj(done, least, least): {<label: vote, asubs: None>: 0.7102124613668592, <label: receive, asubs: None>: 0.7332374135447388, <label: loss, asubs: None>: 0.7402697345562476, <label: update, asubs: None>: 0.14926421965883552, <label: decide, asubs: None>: 0.509321187298556}, aobj(wait, rest, nil) aobj(done, least, least) aobj(done, rest, least): {<label: decide, asubs: None>: 0.7}, aobj(init, rest, nil) aobj(wait, least, nil) aobj(wait, rest, nil): {<label: vote, asubs: None>: 0.896964775252565, <label: receive, asubs: None>: 0.8245671276857913, <label: loss, asubs: None>: 0.8123382562256194, <label: update, asubs: None>: 0.741025186737645, <label: decide, asubs: None>: 0.7027179148510707}, aobj(init, rest, nil) aobj(wait, least, nil) aobj(wait, rest, nil) aobj(done, least, least): {<label: vote, asubs: None>: 0.7414023688167759, <label: receive, asubs: None>: 0.2916975800374999, <label: loss, asubs: None>: 0.644204421643706}, aobj(init, rest, nil) aobj(wait, least, nil): {<label: vote, asubs: None>: 0.7625173557698048, <label: loss, asubs: None>: 0.7562390601693502, <label: receive, asubs: None>: 0.7508328691454553}, aobj(init, least, nil) aobj(wait, rest, nil) aobj(done, rest, rest): {<label: vote, asubs: None>: 0.8781095442116306, <label: loss, asubs: None>: 0.5839428469007343, <label: receive, asubs: None>: 0.5839428469007343}, aobj(init, least, nil) aobj(init, rest, nil) aobj(wait, least, nil) aobj(done, least, least): {<label: vote, asubs: None>: 0.40242474999999983}, aobj(init, least, nil) aobj(wait, rest, nil) aobj(done, least, least): {<label: vote, asubs: None>: 0.7084514858925113, <label: loss, asubs: None>: 0.509321187298556}, aobj(wait, least, nil) aobj(wait, rest, nil) aobj(done, rest, least): {<label: decide, asubs: None>: 0.7629999999999999, <label: loss, asubs: None>: 0.19411350000000002}, aobj(wait, rest, nil) aobj(done, least, least): {<label: update, asubs: None>: 0.6633592062789079, <label: loss, asubs: None>: 0.5384857924862497}, aobj(wait, least, nil) aobj(done, least, rest) aobj(done, rest, rest): {<label: decide, asubs: None>: 0.7, <label: loss, asubs: None>: 0.6051499999999999}, aobj(init, least, nil) aobj(init, rest, nil) aobj(wait, rest, nil) aobj(done, least, least): {<label: vote, asubs: None>: 0.48328806115021067}, aobj(wait, least, nil) aobj(wait, rest, nil) aobj(done, least, rest) aobj(done, rest, rest): {<label: decide, asubs: None>: 0.13965}, aobj(init, least, nil) aobj(done, rest, rest): {<label: vote, asubs: None>: 0.8484623052321293}}\n"
     ]
    }
   ],
   "source": [
    "from AGCEL.QLearning import QLearner\n",
    "\n",
    "learner = QLearner()\n",
    "stat = learner.train(env, 100)\n",
    "print(learner.get_size())\n",
    "print(learner.q_dict)"
   ]
  },
  {
   "cell_type": "code",
   "execution_count": 6,
   "id": "13a3eadc",
   "metadata": {},
   "outputs": [
    {
     "name": "stdout",
     "output_type": "stream",
     "text": [
      "qhs: 10000\n"
     ]
    },
    {
     "ename": "KeyboardInterrupt",
     "evalue": "",
     "output_type": "error",
     "traceback": [
      "\u001b[0;31m---------------------------------------------------------------------------\u001b[0m",
      "\u001b[0;31mKeyboardInterrupt\u001b[0m                         Traceback (most recent call last)",
      "Input \u001b[0;32mIn [6]\u001b[0m, in \u001b[0;36m<cell line: 3>\u001b[0;34m()\u001b[0m\n\u001b[1;32m      6\u001b[0m \u001b[38;5;28mprint\u001b[39m(\u001b[38;5;124m'\u001b[39m\u001b[38;5;124mqhs:\u001b[39m\u001b[38;5;124m'\u001b[39m, qhs_result)\n\u001b[1;32m      7\u001b[0m env\u001b[38;5;241m.\u001b[39mreset(env\u001b[38;5;241m.\u001b[39mlast_init)\n\u001b[0;32m----> 8\u001b[0m bfs_result \u001b[38;5;241m=\u001b[39m \u001b[43menv\u001b[49m\u001b[38;5;241;43m.\u001b[39;49m\u001b[43msearch\u001b[49m\u001b[43m(\u001b[49m\u001b[43mmode\u001b[49m\u001b[38;5;241;43m=\u001b[39;49m\u001b[38;5;124;43m'\u001b[39;49m\u001b[38;5;124;43mbfs\u001b[39;49m\u001b[38;5;124;43m'\u001b[39;49m\u001b[43m,\u001b[49m\u001b[43mmax_step\u001b[49m\u001b[38;5;241;43m=\u001b[39;49m\u001b[38;5;241;43m10000\u001b[39;49m\u001b[43m)\u001b[49m\n\u001b[1;32m      9\u001b[0m \u001b[38;5;28mprint\u001b[39m(\u001b[38;5;124m'\u001b[39m\u001b[38;5;124mbfs:\u001b[39m\u001b[38;5;124m'\u001b[39m, bfs_result)\n",
      "File \u001b[0;32m~/workspace/maudeRL/AGCEL/HeuristicSearch.py:28\u001b[0m, in \u001b[0;36mHeuristicSearch.search\u001b[0;34m(self, mode, max_step)\u001b[0m\n\u001b[1;32m     26\u001b[0m \u001b[38;5;28;01mwhile\u001b[39;00m \u001b[38;5;129;01mnot\u001b[39;00m queue \u001b[38;5;241m==\u001b[39m [] \u001b[38;5;129;01mand\u001b[39;00m i \u001b[38;5;241m<\u001b[39m max_step:\n\u001b[1;32m     27\u001b[0m     state \u001b[38;5;241m=\u001b[39m heapq\u001b[38;5;241m.\u001b[39mheappop(queue)[\u001b[38;5;241m1\u001b[39m]\u001b[38;5;241m.\u001b[39mt\n\u001b[0;32m---> 28\u001b[0m     obs \u001b[38;5;241m=\u001b[39m \u001b[38;5;28;43mself\u001b[39;49m\u001b[38;5;241;43m.\u001b[39;49m\u001b[43mreset\u001b[49m\u001b[43m(\u001b[49m\u001b[43mstate\u001b[49m\u001b[43m)\u001b[49m\n\u001b[1;32m     29\u001b[0m     \u001b[38;5;66;03m#print(t)\u001b[39;00m\n\u001b[1;32m     30\u001b[0m     \u001b[38;5;28;01mif\u001b[39;00m state \u001b[38;5;129;01min\u001b[39;00m visited:\n",
      "File \u001b[0;32m~/workspace/maudeRL/AGCEL/MaudeEnv.py:26\u001b[0m, in \u001b[0;36mMaudeEnv.reset\u001b[0;34m(self, init_state)\u001b[0m\n\u001b[1;32m     24\u001b[0m \u001b[38;5;66;03m# nbrs = (rhs,action) where rhs is the result of applying action on the current state\u001b[39;00m\n\u001b[1;32m     25\u001b[0m \u001b[38;5;28mself\u001b[39m\u001b[38;5;241m.\u001b[39mnbrs \u001b[38;5;241m=\u001b[39m [(rhs, Action(label, \u001b[38;5;28mself\u001b[39m\u001b[38;5;241m.\u001b[39mabst_subs(sb))) \u001b[38;5;28;01mfor\u001b[39;00m label \u001b[38;5;129;01min\u001b[39;00m \u001b[38;5;28mself\u001b[39m\u001b[38;5;241m.\u001b[39mrules \u001b[38;5;28;01mfor\u001b[39;00m rhs, sb, _, _ \u001b[38;5;129;01min\u001b[39;00m \u001b[38;5;28mself\u001b[39m\u001b[38;5;241m.\u001b[39mstate\u001b[38;5;241m.\u001b[39mapply(label)]\n\u001b[0;32m---> 26\u001b[0m \u001b[38;5;28;01mreturn\u001b[39;00m \u001b[38;5;28;43mself\u001b[39;49m\u001b[38;5;241;43m.\u001b[39;49m\u001b[43mget_obs\u001b[49m\u001b[43m(\u001b[49m\u001b[43m)\u001b[49m\n",
      "File \u001b[0;32m~/workspace/maudeRL/AGCEL/MaudeEnv.py:31\u001b[0m, in \u001b[0;36mMaudeEnv.get_obs\u001b[0;34m(self)\u001b[0m\n\u001b[1;32m     28\u001b[0m \u001b[38;5;28;01mdef\u001b[39;00m \u001b[38;5;21mget_obs\u001b[39m(\u001b[38;5;28mself\u001b[39m):\n\u001b[1;32m     29\u001b[0m     \u001b[38;5;28;01mreturn\u001b[39;00m {\n\u001b[1;32m     30\u001b[0m         \u001b[38;5;124m'\u001b[39m\u001b[38;5;124mstate\u001b[39m\u001b[38;5;124m'\u001b[39m : \u001b[38;5;28mself\u001b[39m\u001b[38;5;241m.\u001b[39mstate, \u001b[38;5;66;03m# Maude.Term\u001b[39;00m\n\u001b[0;32m---> 31\u001b[0m         \u001b[38;5;124m'\u001b[39m\u001b[38;5;124mastate\u001b[39m\u001b[38;5;124m'\u001b[39m : \u001b[38;5;28;43mself\u001b[39;49m\u001b[38;5;241;43m.\u001b[39;49m\u001b[43mabst\u001b[49m\u001b[43m(\u001b[49m\u001b[38;5;28;43mself\u001b[39;49m\u001b[38;5;241;43m.\u001b[39;49m\u001b[43mstate\u001b[49m\u001b[43m)\u001b[49m, \u001b[38;5;66;03m# Maude.Term\u001b[39;00m\n\u001b[1;32m     32\u001b[0m         \u001b[38;5;124m'\u001b[39m\u001b[38;5;124mactions\u001b[39m\u001b[38;5;124m'\u001b[39m : [a \u001b[38;5;28;01mfor\u001b[39;00m s,a \u001b[38;5;129;01min\u001b[39;00m \u001b[38;5;28mself\u001b[39m\u001b[38;5;241m.\u001b[39mnbrs] \u001b[38;5;66;03m# List of (available) action objects\u001b[39;00m\n\u001b[1;32m     33\u001b[0m     }\n",
      "File \u001b[0;32m~/workspace/maudeRL/AGCEL/MaudeEnv.py:47\u001b[0m, in \u001b[0;36mMaudeEnv.abst\u001b[0;34m(self, term)\u001b[0m\n\u001b[1;32m     46\u001b[0m \u001b[38;5;28;01mdef\u001b[39;00m \u001b[38;5;21mabst\u001b[39m(\u001b[38;5;28mself\u001b[39m, term):\n\u001b[0;32m---> 47\u001b[0m     term \u001b[38;5;241m=\u001b[39m \u001b[38;5;28;43mself\u001b[39;49m\u001b[38;5;241;43m.\u001b[39;49m\u001b[43mm\u001b[49m\u001b[38;5;241;43m.\u001b[39;49m\u001b[43mparseTerm\u001b[49m\u001b[43m(\u001b[49m\u001b[38;5;124;43m'\u001b[39;49m\u001b[38;5;124;43mabst(\u001b[39;49m\u001b[38;5;124;43m'\u001b[39;49m\u001b[43m \u001b[49m\u001b[38;5;241;43m+\u001b[39;49m\u001b[43m \u001b[49m\u001b[43mterm\u001b[49m\u001b[38;5;241;43m.\u001b[39;49m\u001b[43mprettyPrint\u001b[49m\u001b[43m(\u001b[49m\u001b[38;5;241;43m0\u001b[39;49m\u001b[43m)\u001b[49m\u001b[43m \u001b[49m\u001b[38;5;241;43m+\u001b[39;49m\u001b[43m \u001b[49m\u001b[38;5;124;43m'\u001b[39;49m\u001b[38;5;124;43m)\u001b[39;49m\u001b[38;5;124;43m'\u001b[39;49m\u001b[43m)\u001b[49m\n\u001b[1;32m     48\u001b[0m     term\u001b[38;5;241m.\u001b[39mreduce()\n\u001b[1;32m     49\u001b[0m     \u001b[38;5;28;01mreturn\u001b[39;00m term\n",
      "File \u001b[0;32m~/.local/lib/python3.10/site-packages/maude/__init__.py:3448\u001b[0m, in \u001b[0;36mModule.parseTerm\u001b[0;34m(self, *args)\u001b[0m\n\u001b[1;32m   3398\u001b[0m \u001b[38;5;28;01mdef\u001b[39;00m \u001b[38;5;21mparseTerm\u001b[39m(\u001b[38;5;28mself\u001b[39m, \u001b[38;5;241m*\u001b[39margs):\n\u001b[1;32m   3399\u001b[0m     \u001b[38;5;124mr\u001b[39m\u001b[38;5;124;03m\"\"\"\u001b[39;00m\n\u001b[1;32m   3400\u001b[0m \u001b[38;5;124;03m    *Overload 1:*\u001b[39;00m\n\u001b[1;32m   3401\u001b[0m \n\u001b[0;32m   (...)\u001b[0m\n\u001b[1;32m   3446\u001b[0m \u001b[38;5;124;03m        annotation in the strategy.\u001b[39;00m\n\u001b[1;32m   3447\u001b[0m \u001b[38;5;124;03m    \"\"\"\u001b[39;00m\n\u001b[0;32m-> 3448\u001b[0m     \u001b[38;5;28;01mreturn\u001b[39;00m \u001b[43m_maude\u001b[49m\u001b[38;5;241;43m.\u001b[39;49m\u001b[43mModule_parseTerm\u001b[49m\u001b[43m(\u001b[49m\u001b[38;5;28;43mself\u001b[39;49m\u001b[43m,\u001b[49m\u001b[43m \u001b[49m\u001b[38;5;241;43m*\u001b[39;49m\u001b[43margs\u001b[49m\u001b[43m)\u001b[49m\n",
      "\u001b[0;31mKeyboardInterrupt\u001b[0m: "
     ]
    }
   ],
   "source": [
    "from AGCEL.HeuristicSearch import HeuristicSearch\n",
    "\n",
    "for _ in range(1):\n",
    "    env = HeuristicSearch(m,'disagree',lambda : 'init5a', learner, abst_mode='label')\n",
    "    qhs_result = env.search(mode='qhs',max_step=10000)\n",
    "    print('qhs:', qhs_result)\n",
    "    env.reset(env.last_init)\n",
    "    bfs_result = env.search(mode='bfs',max_step=10000)\n",
    "    print('bfs:', bfs_result)"
   ]
  },
  {
   "cell_type": "code",
   "execution_count": 10,
   "id": "997eb586",
   "metadata": {},
   "outputs": [
    {
     "name": "stdout",
     "output_type": "stream",
     "text": [
      "['vote', 'receive', 'decide', 'update', 'loss']\n",
      "init3\n",
      "[('vote', Subtitution with 9 variables), ('vote', Subtitution with 9 variables), ('vote', Subtitution with 9 variables)]\n"
     ]
    }
   ],
   "source": [
    "rules = []\n",
    "for rl in m.getRules():\n",
    "    if not rl.getLabel() == None:\n",
    "        rules.append(rl.getLabel())\n",
    "print(rules)        \n",
    "\n",
    "init = lambda : 'init3'\n",
    "state = m.parseTerm(init())\n",
    "print(state)\n",
    "\n",
    "nbrs = [(label,sb) for label in rules for rhs, sb, _, _ in state.apply(label)]\n",
    "print(nbrs)"
   ]
  }
 ],
 "metadata": {
  "kernelspec": {
   "display_name": "Python 3 (ipykernel)",
   "language": "python",
   "name": "python3"
  },
  "language_info": {
   "codemirror_mode": {
    "name": "ipython",
    "version": 3
   },
   "file_extension": ".py",
   "mimetype": "text/x-python",
   "name": "python",
   "nbconvert_exporter": "python",
   "pygments_lexer": "ipython3",
   "version": "3.10.12"
  }
 },
 "nbformat": 4,
 "nbformat_minor": 5
}
