{
 "cells": [
  {
   "cell_type": "code",
   "execution_count": 1,
   "id": "d7405358",
   "metadata": {},
   "outputs": [
    {
     "name": "stdout",
     "output_type": "stream",
     "text": [
      "Using ONETHIRDRULE-ANALYSIS module\n"
     ]
    }
   ],
   "source": [
    "import maude\n",
    "\n",
    "model = './benchmarks/onethirdrule/onethirdrule-hs.maude'\n",
    "maude.init()\n",
    "maude.load(model)\n",
    "m = maude.getCurrentModule()\n",
    "print('Using', m, 'module')"
   ]
  },
  {
   "cell_type": "code",
   "execution_count": 2,
   "id": "ff7bede2",
   "metadata": {},
   "outputs": [
    {
     "name": "stdout",
     "output_type": "stream",
     "text": [
      "{'state': {2,0 ; 1, \"A\" ; \"B\" ; \"C\", < \"A\" : Node | status : [1, init], value : 0, decision : nilValue, votes : [0 |-> 0 ; 1 |-> 0, 0] > < \"B\" : Node | status : [1, init], value : 1, decision : nilValue, votes : [0 |-> 0 ; 1 |-> 0, 0] > < \"C\" : Node | status : [1, init], value : 1, decision : nilValue, votes : [0 |-> 0 ; 1 |-> 0, 0] >}, 'astate': aobj(init, least, nilAValue) aobj(init, rest, nilAValue), 'actions': [act('vote), act('vote), act('vote)]}\n"
     ]
    }
   ],
   "source": [
    "from AGCEL.MaudeEnv import MaudeEnv\n",
    "\n",
    "env = MaudeEnv(m,'disagree',lambda : 'init3',abst_mode='label')\n",
    "print(env.get_obs())"
   ]
  },
  {
   "cell_type": "code",
   "execution_count": 3,
   "id": "ac7644d7",
   "metadata": {},
   "outputs": [
    {
     "name": "stdout",
     "output_type": "stream",
     "text": [
      "training done!\n",
      "41\n",
      "{aobj(wait, least, nilAValue) aobj(done, rest, rest): {act('decide): 0.7818999999999999, act('receive): 0.6951544249999999, act('loss): 0.7383298214241931, act('update): 0.6066605193692727}, aobj(wait, least, nilAValue) aobj(wait, rest, nilAValue) aobj(done, rest, rest): {act('decide): 0.17609865000000002, act('loss): 0.6357839808456425, act('update): 0.5518095564875451, act('receive): 0.6045765262379776}, aobj(init, least, nilAValue) aobj(done, rest, rest): {act('vote): 0.7140769999999999}, aobj(init, least, nilAValue) aobj(wait, rest, nilAValue): {act('decide): 0.6506395160917398, act('receive): 0.6179331467733109, act('vote): 0.5765014158831698, act('loss): 0.6180665891375795}, aobj(init, least, nilAValue) aobj(wait, least, nilAValue) aobj(done, rest, rest): {act('vote): 0.6933227364894782, act('loss): 0.4630419471027021}, aobj(init, least, nilAValue) aobj(init, rest, nilAValue) aobj(wait, rest, nilAValue): {act('vote): 0.608562892243261, act('loss): 0.5745513225719152, act('update): 0.38145666666111533}, aobj(init, least, nilAValue) aobj(wait, rest, nilAValue) aobj(done, rest, rest): {act('vote): 0.7054020821853249, act('loss): 0.6278714037828572, act('decide): 0.09286724999999998}, aobj(wait, least, nilAValue) aobj(wait, rest, nilAValue): {act('update): 0.48369514939119235, act('loss): 0.5768847134750302, act('receive): 0.5762526887363756, act('decide): 0.604754818613392}, aobj(init, rest, nilAValue) aobj(wait, least, nilAValue) aobj(wait, rest, nilAValue): {act('update): 0.4081958130889931, act('receive): 0.5823000361666157, act('loss): 0.579987565154092, act('vote): 0.585391123820038}, aobj(init, least, nilAValue) aobj(wait, least, nilAValue) aobj(wait, rest, nilAValue): {act('vote): 0.5864122825898228, act('loss): 0.5711164020383388, act('receive): 0.5825104718574254, act('update): 0.5556307860873295, act('decide): 0.429407029271668}, aobj(init, least, nilAValue) aobj(init, rest, nilAValue): {act('vote): 0.5623425197891486}, aobj(init, rest, nilAValue) aobj(wait, least, nilAValue): {act('vote): 0.5974578530717685, act('loss): 0.5330128611215396}, aobj(init, least, nilAValue) aobj(init, rest, nilAValue) aobj(wait, least, nilAValue): {act('vote): 0.5457965892364659, act('loss): 0.3683651310720836}, aobj(wait, least, nilAValue) aobj(done, least, rest): {act('decide): 0.7}, aobj(wait, least, nilAValue) aobj(wait, rest, nilAValue) aobj(done, least, least): {act('decide): 0.7}}\n"
     ]
    }
   ],
   "source": [
    "from AGCEL.QLearning import QLearner\n",
    "\n",
    "learner = QLearner()\n",
    "stat = learner.train(env, 100)\n",
    "print(learner.get_size())\n",
    "print(learner.q_dict)"
   ]
  },
  {
   "cell_type": "code",
   "execution_count": 4,
   "id": "13a3eadc",
   "metadata": {},
   "outputs": [
    {
     "name": "stdout",
     "output_type": "stream",
     "text": [
      "qhs: 129 bfs: 6329 dfs: 22 const: 10000\n"
     ]
    }
   ],
   "source": [
    "from AGCEL.HeuristicSearch import HeuristicSearch\n",
    "\n",
    "for _ in range(1):\n",
    "    env = HeuristicSearch(m,'disagree',lambda : 'init4', learner, abst_mode='label')\n",
    "    qhs_result = env.search(mode='qhs' ,max_step=10000)\n",
    "    env.reset(env.last_init)\n",
    "    bfs_result = env.search(mode='bfs' ,max_step=10000)\n",
    "    env.reset(env.last_init)\n",
    "    dfs_result = env.search(mode='dfs' ,max_step=10000)\n",
    "    env.reset(env.last_init)\n",
    "    const_result = env.search(mode='const' ,max_step=10000)\n",
    "    print('qhs:', qhs_result, 'bfs:', bfs_result, 'dfs:', dfs_result, 'const:', const_result)"
   ]
  },
  {
   "cell_type": "code",
   "execution_count": 4,
   "id": "997eb586",
   "metadata": {},
   "outputs": [],
   "source": [
    "learner.dump('qtable.maude', str(m))"
   ]
  },
  {
   "cell_type": "code",
   "execution_count": 4,
   "id": "fc5cf828",
   "metadata": {},
   "outputs": [
    {
     "ename": "FileNotFoundError",
     "evalue": "[Errno 2] No such file or directory: 'run.sh'",
     "output_type": "error",
     "traceback": [
      "\u001b[0;31m---------------------------------------------------------------------------\u001b[0m",
      "\u001b[0;31mFileNotFoundError\u001b[0m                         Traceback (most recent call last)",
      "Input \u001b[0;32mIn [4]\u001b[0m, in \u001b[0;36m<cell line: 2>\u001b[0;34m()\u001b[0m\n\u001b[1;32m      1\u001b[0m \u001b[38;5;28;01mimport\u001b[39;00m \u001b[38;5;21;01msubprocess\u001b[39;00m\n\u001b[0;32m----> 2\u001b[0m \u001b[43msubprocess\u001b[49m\u001b[38;5;241;43m.\u001b[39;49m\u001b[43mcall\u001b[49m\u001b[43m(\u001b[49m\u001b[43m[\u001b[49m\u001b[38;5;124;43m\"\u001b[39;49m\u001b[38;5;124;43mrun.sh\u001b[39;49m\u001b[38;5;124;43m\"\u001b[39;49m\u001b[43m]\u001b[49m\u001b[43m)\u001b[49m\n",
      "File \u001b[0;32m/usr/lib/python3.10/subprocess.py:345\u001b[0m, in \u001b[0;36mcall\u001b[0;34m(timeout, *popenargs, **kwargs)\u001b[0m\n\u001b[1;32m    337\u001b[0m \u001b[38;5;28;01mdef\u001b[39;00m \u001b[38;5;21mcall\u001b[39m(\u001b[38;5;241m*\u001b[39mpopenargs, timeout\u001b[38;5;241m=\u001b[39m\u001b[38;5;28;01mNone\u001b[39;00m, \u001b[38;5;241m*\u001b[39m\u001b[38;5;241m*\u001b[39mkwargs):\n\u001b[1;32m    338\u001b[0m     \u001b[38;5;124;03m\"\"\"Run command with arguments.  Wait for command to complete or\u001b[39;00m\n\u001b[1;32m    339\u001b[0m \u001b[38;5;124;03m    timeout, then return the returncode attribute.\u001b[39;00m\n\u001b[1;32m    340\u001b[0m \n\u001b[0;32m   (...)\u001b[0m\n\u001b[1;32m    343\u001b[0m \u001b[38;5;124;03m    retcode = call([\"ls\", \"-l\"])\u001b[39;00m\n\u001b[1;32m    344\u001b[0m \u001b[38;5;124;03m    \"\"\"\u001b[39;00m\n\u001b[0;32m--> 345\u001b[0m     \u001b[38;5;28;01mwith\u001b[39;00m \u001b[43mPopen\u001b[49m\u001b[43m(\u001b[49m\u001b[38;5;241;43m*\u001b[39;49m\u001b[43mpopenargs\u001b[49m\u001b[43m,\u001b[49m\u001b[43m \u001b[49m\u001b[38;5;241;43m*\u001b[39;49m\u001b[38;5;241;43m*\u001b[39;49m\u001b[43mkwargs\u001b[49m\u001b[43m)\u001b[49m \u001b[38;5;28;01mas\u001b[39;00m p:\n\u001b[1;32m    346\u001b[0m         \u001b[38;5;28;01mtry\u001b[39;00m:\n\u001b[1;32m    347\u001b[0m             \u001b[38;5;28;01mreturn\u001b[39;00m p\u001b[38;5;241m.\u001b[39mwait(timeout\u001b[38;5;241m=\u001b[39mtimeout)\n",
      "File \u001b[0;32m/usr/lib/python3.10/subprocess.py:971\u001b[0m, in \u001b[0;36mPopen.__init__\u001b[0;34m(self, args, bufsize, executable, stdin, stdout, stderr, preexec_fn, close_fds, shell, cwd, env, universal_newlines, startupinfo, creationflags, restore_signals, start_new_session, pass_fds, user, group, extra_groups, encoding, errors, text, umask, pipesize)\u001b[0m\n\u001b[1;32m    967\u001b[0m         \u001b[38;5;28;01mif\u001b[39;00m \u001b[38;5;28mself\u001b[39m\u001b[38;5;241m.\u001b[39mtext_mode:\n\u001b[1;32m    968\u001b[0m             \u001b[38;5;28mself\u001b[39m\u001b[38;5;241m.\u001b[39mstderr \u001b[38;5;241m=\u001b[39m io\u001b[38;5;241m.\u001b[39mTextIOWrapper(\u001b[38;5;28mself\u001b[39m\u001b[38;5;241m.\u001b[39mstderr,\n\u001b[1;32m    969\u001b[0m                     encoding\u001b[38;5;241m=\u001b[39mencoding, errors\u001b[38;5;241m=\u001b[39merrors)\n\u001b[0;32m--> 971\u001b[0m     \u001b[38;5;28;43mself\u001b[39;49m\u001b[38;5;241;43m.\u001b[39;49m\u001b[43m_execute_child\u001b[49m\u001b[43m(\u001b[49m\u001b[43margs\u001b[49m\u001b[43m,\u001b[49m\u001b[43m \u001b[49m\u001b[43mexecutable\u001b[49m\u001b[43m,\u001b[49m\u001b[43m \u001b[49m\u001b[43mpreexec_fn\u001b[49m\u001b[43m,\u001b[49m\u001b[43m \u001b[49m\u001b[43mclose_fds\u001b[49m\u001b[43m,\u001b[49m\n\u001b[1;32m    972\u001b[0m \u001b[43m                        \u001b[49m\u001b[43mpass_fds\u001b[49m\u001b[43m,\u001b[49m\u001b[43m \u001b[49m\u001b[43mcwd\u001b[49m\u001b[43m,\u001b[49m\u001b[43m \u001b[49m\u001b[43menv\u001b[49m\u001b[43m,\u001b[49m\n\u001b[1;32m    973\u001b[0m \u001b[43m                        \u001b[49m\u001b[43mstartupinfo\u001b[49m\u001b[43m,\u001b[49m\u001b[43m \u001b[49m\u001b[43mcreationflags\u001b[49m\u001b[43m,\u001b[49m\u001b[43m \u001b[49m\u001b[43mshell\u001b[49m\u001b[43m,\u001b[49m\n\u001b[1;32m    974\u001b[0m \u001b[43m                        \u001b[49m\u001b[43mp2cread\u001b[49m\u001b[43m,\u001b[49m\u001b[43m \u001b[49m\u001b[43mp2cwrite\u001b[49m\u001b[43m,\u001b[49m\n\u001b[1;32m    975\u001b[0m \u001b[43m                        \u001b[49m\u001b[43mc2pread\u001b[49m\u001b[43m,\u001b[49m\u001b[43m \u001b[49m\u001b[43mc2pwrite\u001b[49m\u001b[43m,\u001b[49m\n\u001b[1;32m    976\u001b[0m \u001b[43m                        \u001b[49m\u001b[43merrread\u001b[49m\u001b[43m,\u001b[49m\u001b[43m \u001b[49m\u001b[43merrwrite\u001b[49m\u001b[43m,\u001b[49m\n\u001b[1;32m    977\u001b[0m \u001b[43m                        \u001b[49m\u001b[43mrestore_signals\u001b[49m\u001b[43m,\u001b[49m\n\u001b[1;32m    978\u001b[0m \u001b[43m                        \u001b[49m\u001b[43mgid\u001b[49m\u001b[43m,\u001b[49m\u001b[43m \u001b[49m\u001b[43mgids\u001b[49m\u001b[43m,\u001b[49m\u001b[43m \u001b[49m\u001b[43muid\u001b[49m\u001b[43m,\u001b[49m\u001b[43m \u001b[49m\u001b[43mumask\u001b[49m\u001b[43m,\u001b[49m\n\u001b[1;32m    979\u001b[0m \u001b[43m                        \u001b[49m\u001b[43mstart_new_session\u001b[49m\u001b[43m)\u001b[49m\n\u001b[1;32m    980\u001b[0m \u001b[38;5;28;01mexcept\u001b[39;00m:\n\u001b[1;32m    981\u001b[0m     \u001b[38;5;66;03m# Cleanup if the child failed starting.\u001b[39;00m\n\u001b[1;32m    982\u001b[0m     \u001b[38;5;28;01mfor\u001b[39;00m f \u001b[38;5;129;01min\u001b[39;00m \u001b[38;5;28mfilter\u001b[39m(\u001b[38;5;28;01mNone\u001b[39;00m, (\u001b[38;5;28mself\u001b[39m\u001b[38;5;241m.\u001b[39mstdin, \u001b[38;5;28mself\u001b[39m\u001b[38;5;241m.\u001b[39mstdout, \u001b[38;5;28mself\u001b[39m\u001b[38;5;241m.\u001b[39mstderr)):\n",
      "File \u001b[0;32m/usr/lib/python3.10/subprocess.py:1863\u001b[0m, in \u001b[0;36mPopen._execute_child\u001b[0;34m(self, args, executable, preexec_fn, close_fds, pass_fds, cwd, env, startupinfo, creationflags, shell, p2cread, p2cwrite, c2pread, c2pwrite, errread, errwrite, restore_signals, gid, gids, uid, umask, start_new_session)\u001b[0m\n\u001b[1;32m   1861\u001b[0m     \u001b[38;5;28;01mif\u001b[39;00m errno_num \u001b[38;5;241m!=\u001b[39m \u001b[38;5;241m0\u001b[39m:\n\u001b[1;32m   1862\u001b[0m         err_msg \u001b[38;5;241m=\u001b[39m os\u001b[38;5;241m.\u001b[39mstrerror(errno_num)\n\u001b[0;32m-> 1863\u001b[0m     \u001b[38;5;28;01mraise\u001b[39;00m child_exception_type(errno_num, err_msg, err_filename)\n\u001b[1;32m   1864\u001b[0m \u001b[38;5;28;01mraise\u001b[39;00m child_exception_type(err_msg)\n",
      "\u001b[0;31mFileNotFoundError\u001b[0m: [Errno 2] No such file or directory: 'run.sh'"
     ]
    }
   ],
   "source": [
    "import subprocess\n",
    "subprocess.call([\"run.sh\"])"
   ]
  },
  {
   "cell_type": "code",
   "execution_count": null,
   "id": "7f2f7c77",
   "metadata": {},
   "outputs": [],
   "source": []
  }
 ],
 "metadata": {
  "kernelspec": {
   "display_name": "Python 3 (ipykernel)",
   "language": "python",
   "name": "python3"
  },
  "language_info": {
   "codemirror_mode": {
    "name": "ipython",
    "version": 3
   },
   "file_extension": ".py",
   "mimetype": "text/x-python",
   "name": "python",
   "nbconvert_exporter": "python",
   "pygments_lexer": "ipython3",
   "version": "3.10.12"
  }
 },
 "nbformat": 4,
 "nbformat_minor": 5
}
