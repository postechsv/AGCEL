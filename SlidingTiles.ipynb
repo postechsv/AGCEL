{
 "cells": [
  {
   "cell_type": "code",
   "execution_count": 1,
   "id": "d6fc79a1",
   "metadata": {},
   "outputs": [],
   "source": [
    "import maude\n",
    "import random\n",
    "import numpy as np\n",
    "import numpy.ma as ma\n",
    "import tqdm\n",
    "from tqdm.notebook import tqdm"
   ]
  },
  {
   "cell_type": "code",
   "execution_count": 2,
   "id": "01d76af9",
   "metadata": {},
   "outputs": [
    {
     "name": "stdout",
     "output_type": "stream",
     "text": [
      "Using TEST module\n",
      "==========================================\n",
      "reduce in TEST : size .\n",
      "rewrites: 1 in 0ms cpu (0ms real) (~ rewrites/second)\n",
      "result NzNat: 3\n"
     ]
    }
   ],
   "source": [
    "maude.init()\n",
    "maude.load('./sliding-tiles.maude')\n",
    "m = maude.getCurrentModule()\n",
    "print('Using', m, 'module')"
   ]
  },
  {
   "cell_type": "code",
   "execution_count": 15,
   "id": "898fdfab",
   "metadata": {},
   "outputs": [
    {
     "name": "stdout",
     "output_type": "stream",
     "text": [
      "['up', 'right', 'down', 'left']\n"
     ]
    }
   ],
   "source": [
    "rules = []\n",
    "for rl in m.getRules():\n",
    "    if not rl.getLabel() == None:\n",
    "        rules.append(rl.getLabel())\n",
    "print(rules)"
   ]
  },
  {
   "cell_type": "code",
   "execution_count": 16,
   "id": "ad63338f",
   "metadata": {},
   "outputs": [],
   "source": [
    "def st_generator(path=None, n_shuffles=100):\n",
    "    N = 3 # tiles = N x N\n",
    "    tiles = []\n",
    "    for i in range(N):\n",
    "        row = []\n",
    "        for j in range(N):\n",
    "            row.append(N*i+j)\n",
    "        tiles.append(row)\n",
    "    i0, j0 = 0, 0\n",
    "    cnt = 0\n",
    "    while cnt < n_shuffles:\n",
    "        action = random.choice(range(4))\n",
    "        if action == 0 and i0 - 1 >= 0: # up\n",
    "            tiles[i0][j0], tiles[i0 - 1][j0] = tiles[i0 - 1][j0], tiles[i0][j0]\n",
    "            i0 = i0 - 1\n",
    "            cnt += 1\n",
    "            if path != None:\n",
    "                path.append('up')\n",
    "            #print('up')\n",
    "        elif action == 1 and j0 + 1 < N: # right\n",
    "            tiles[i0][j0], tiles[i0][j0 + 1] = tiles[i0][j0 + 1], tiles[i0][j0]\n",
    "            j0 = j0 + 1\n",
    "            cnt += 1\n",
    "            if path != None:\n",
    "                path.append('right')\n",
    "            #print('right')\n",
    "        elif action == 2 and i0 + 1 < N: # down\n",
    "            tiles[i0][j0], tiles[i0 + 1][j0] = tiles[i0 + 1][j0], tiles[i0][j0]\n",
    "            i0 = i0 + 1\n",
    "            cnt += 1\n",
    "            if path != None:\n",
    "                path.append('down')            \n",
    "            #print('down')\n",
    "        elif action == 3 and j0 - 1 >= 0: # left\n",
    "            tiles[i0][j0], tiles[i0][j0 - 1] = tiles[i0][j0 - 1], tiles[i0][j0]\n",
    "            j0 = j0 - 1\n",
    "            cnt += 1\n",
    "            if path != None:\n",
    "                path.append('left')\n",
    "            #print('left')\n",
    "    #print(tiles)\n",
    "    tiles = [f'tile({n},{i},{j})' for (i,row) in enumerate(tiles) for (j,n) in enumerate(row)]\n",
    "    return m.parseTerm(' '.join(tiles))"
   ]
  },
  {
   "cell_type": "code",
   "execution_count": 84,
   "id": "426180ee",
   "metadata": {},
   "outputs": [],
   "source": [
    "t = st_generator(n_shuffles=2)\n",
    "#print(t)\n",
    "\n",
    "def get_nbrs(t):\n",
    "    #returns (next_t, a) where a = action applied to produce next_t from t\n",
    "    return [(t, path()[1].getLabel()) for t, subs, path, nrew in t.search(1, m.parseTerm('X:Conf'), depth = 1)]  \n",
    "#print(get_nbrs(t))\n",
    "\n",
    "def get_acfg(t):\n",
    "    acfg = m.parseTerm('alpha(' + t.prettyPrint(0) + ')') # TODO change aconf to acfg\n",
    "    acfg.reduce()\n",
    "    return acfg\n",
    "#print(get_acfg(t))\n",
    "\n",
    "def is_goal(t):\n",
    "    t = m.parseTerm(f'isGoal({t.prettyPrint(0)})')\n",
    "    t.reduce()\n",
    "    return t.prettyPrint(0) == 'true'\n",
    "#print(is_goal(t))\n",
    "\n",
    "def get_k_closure(s,k):\n",
    "    return [s] + [t for t, subs, path, nrew in s.search(1, m.parseTerm('X:AConf'), depth = k)]  "
   ]
  },
  {
   "cell_type": "code",
   "execution_count": 87,
   "id": "0ebe4a8b",
   "metadata": {},
   "outputs": [
    {
     "name": "stdout",
     "output_type": "stream",
     "text": [
      "tile(6, 0, 0) tile(2, 0, 1) tile(8, 0, 2) tile(4, 1, 0) tile(5, 1, 1) tile(1, 1, 2) tile(7, 2, 0) tile(3, 2, 1) tile(0, 2, 2)\n",
      "tile(zero, 2, 2) tile(right, 0, 1) tile(right, 1, 0) tile(right, 1, 1) tile(right, 2, 0) tile(down, 0, 0) tile(down, 0, 2) tile(upLeft, 1, 2) tile(upLeft, 2, 1)\n",
      "k=1\n",
      "tile(zero, 2, 2) tile(right, 0, 1) tile(right, 1, 0) tile(right, 1, 1) tile(right, 2, 0) tile(down, 0, 0) tile(down, 0, 2) tile(upLeft, 1, 2) tile(upLeft, 2, 1)\n",
      "tile(zero, 2, 2) tile(up, 1, 2) tile(right, 0, 1) tile(right, 1, 0) tile(right, 1, 1) tile(right, 2, 0) tile(down, 0, 0) tile(down, 0, 2) tile(upLeft, 2, 1)\n",
      "tile(zero, 2, 2) tile(right, 0, 1) tile(right, 1, 0) tile(right, 1, 1) tile(right, 2, 0) tile(down, 0, 0) tile(down, 0, 2) tile(left, 1, 2) tile(upLeft, 2, 1)\n",
      "tile(zero, 2, 2) tile(up, 2, 1) tile(right, 0, 1) tile(right, 1, 0) tile(right, 1, 1) tile(right, 2, 0) tile(down, 0, 0) tile(down, 0, 2) tile(upLeft, 1, 2)\n",
      "tile(zero, 2, 2) tile(right, 0, 1) tile(right, 1, 0) tile(right, 1, 1) tile(right, 2, 0) tile(down, 0, 0) tile(down, 0, 2) tile(left, 2, 1) tile(upLeft, 1, 2)\n",
      "k=2\n",
      "tile(zero, 2, 2) tile(right, 0, 1) tile(right, 1, 0) tile(right, 1, 1) tile(right, 2, 0) tile(down, 0, 0) tile(down, 0, 2) tile(upLeft, 1, 2) tile(upLeft, 2, 1)\n",
      "tile(zero, 2, 2) tile(up, 1, 2) tile(right, 0, 1) tile(right, 1, 0) tile(right, 1, 1) tile(right, 2, 0) tile(down, 0, 0) tile(down, 0, 2) tile(upLeft, 2, 1)\n",
      "tile(zero, 2, 2) tile(right, 0, 1) tile(right, 1, 0) tile(right, 1, 1) tile(right, 2, 0) tile(down, 0, 0) tile(down, 0, 2) tile(left, 1, 2) tile(upLeft, 2, 1)\n",
      "tile(zero, 2, 2) tile(up, 2, 1) tile(right, 0, 1) tile(right, 1, 0) tile(right, 1, 1) tile(right, 2, 0) tile(down, 0, 0) tile(down, 0, 2) tile(upLeft, 1, 2)\n",
      "tile(zero, 2, 2) tile(right, 0, 1) tile(right, 1, 0) tile(right, 1, 1) tile(right, 2, 0) tile(down, 0, 0) tile(down, 0, 2) tile(left, 2, 1) tile(upLeft, 1, 2)\n",
      "tile(zero, 2, 2) tile(up, 1, 2) tile(up, 2, 1) tile(right, 0, 1) tile(right, 1, 0) tile(right, 1, 1) tile(right, 2, 0) tile(down, 0, 0) tile(down, 0, 2)\n",
      "tile(zero, 2, 2) tile(up, 1, 2) tile(right, 0, 1) tile(right, 1, 0) tile(right, 1, 1) tile(right, 2, 0) tile(down, 0, 0) tile(down, 0, 2) tile(left, 2, 1)\n",
      "tile(zero, 2, 2) tile(up, 2, 1) tile(right, 0, 1) tile(right, 1, 0) tile(right, 1, 1) tile(right, 2, 0) tile(down, 0, 0) tile(down, 0, 2) tile(left, 1, 2)\n",
      "tile(zero, 2, 2) tile(right, 0, 1) tile(right, 1, 0) tile(right, 1, 1) tile(right, 2, 0) tile(down, 0, 0) tile(down, 0, 2) tile(left, 1, 2) tile(left, 2, 1)\n"
     ]
    }
   ],
   "source": [
    "#t = st_generator(n_shuffles=100)\n",
    "t = m.parseTerm('tile(6, 0, 0) tile(2, 0, 1) tile(8, 0, 2) tile(4, 1, 0) tile(5, 1, 1) tile(1, 1, 2) tile(7, 2, 0) tile(3, 2, 1) tile(0, 2, 2)')\n",
    "print(t)\n",
    "s = get_acfg(t)\n",
    "print(s)\n",
    "print('k=1')\n",
    "for ns in get_k_closure(s,1):\n",
    "    print(ns)\n",
    "print('k=2')\n",
    "for ns in get_k_closure(s,2):\n",
    "    print(ns)\n",
    "\n",
    "#init_term = m.parseTerm('tile(1, 0, 0) tile(0, 0, 1) tile(2, 0, 2) tile(3, 1, 0) tile(4, 1, 1) tile(5, 1, 2) tile(6, 2, 0) tile(7, 2, 1) tile(8, 2, 2)')\n",
    "#env = MaudeEnv(st_generator,init_term)\n",
    "#print(env.actions)\n",
    "#env.step('left')"
   ]
  },
  {
   "cell_type": "code",
   "execution_count": 161,
   "id": "8d38556c",
   "metadata": {},
   "outputs": [
    {
     "name": "stdout",
     "output_type": "stream",
     "text": [
      "tile(5, 0, 0) tile(3, 0, 1) tile(7, 0, 2) tile(1, 1, 0) tile(8, 1, 1) tile(6, 1, 2) tile(4, 2, 0) tile(2, 2, 1) tile(0, 2, 2)\n",
      "up : True\n",
      "right : False\n",
      "down : False\n",
      "left : True\n"
     ]
    },
    {
     "data": {
      "text/plain": [
       "['up', 'left']"
      ]
     },
     "execution_count": 161,
     "metadata": {},
     "output_type": "execute_result"
    }
   ],
   "source": [
    "path = []\n",
    "t = st_generator(path)\n",
    "print(t)\n",
    "v = m.parseTerm('X:Conf')\n",
    "for rl in rules:\n",
    "    print(rl,':',any(True for _ in t.apply(rl)))\n",
    "[rl for rl in rules if any(True for _ in t.apply(rl))]\n",
    "#t.apply('up')\n",
    "#t.search(1,v,depth=1)\n",
    "#for r, sb, ctx, rl in t.apply('up'):\n",
    "#print(r, 'with', rl.getLabel()) #, 'in context', ctx(v))"
   ]
  },
  {
   "cell_type": "code",
   "execution_count": 17,
   "id": "e38a75c9",
   "metadata": {},
   "outputs": [],
   "source": [
    "class MaudeEnv():\n",
    "    def __init__(self, g=None, init_term=None):\n",
    "        self.conf_gen = g\n",
    "        self.reset(init_term)\n",
    "        self.rules = []\n",
    "        for rl in m.getRules():\n",
    "            if not rl.getLabel() == None:\n",
    "                self.rules.append(rl.getLabel())\n",
    "            \n",
    "    def reset(self, init_term=None):\n",
    "        if init_term == None:\n",
    "            t = self.conf_gen()\n",
    "        else:\n",
    "            t = init_term\n",
    "        self.term = t\n",
    "        self.acfg = self.get_acfg(t)\n",
    "        self.actions = [rl for rl in rules if any(True for _ in t.apply(rl))]\n",
    "        #self.nbrs = [(t,self.get_acfg(t)) for t,_,_,_ in t.search(1, m.parseTerm('X:Conf'), depth = 1)]  \n",
    "        #self.next_acfg = list(set([action for (_,action) in self.nbrs])) # remove duplicates\n",
    "        return self.get_state() \n",
    "    \n",
    "    def get_state(self):\n",
    "        return {\n",
    "            'term' : self.term,\n",
    "            'acfg' : self.acfg,\n",
    "            'actions' : self.actions,\n",
    "        }\n",
    "        \n",
    "    def step(self, action):\n",
    "        #pairs = [(term, acfg) for (term,acfg) in self.nbrs if acfg == action]\n",
    "        nbrs = [next_t for next_t, _, _, _ in self.term.apply(action)]\n",
    "        if nbrs == []:\n",
    "            raise Exception(\"invalid action\")\n",
    "        state = self.reset(random.choice(nbrs))\n",
    "        reward = 1.0 if self.is_goal() else 0.0\n",
    "        done = True if reward == 1.0 else False # TODO: +done if no rewrite possible\n",
    "        return state, reward, done\n",
    "    \n",
    "    def get_acfg(self, t):\n",
    "        acfg = m.parseTerm('alpha(' + t.prettyPrint(0) + ')') # TODO change aconf to acfg\n",
    "        acfg.reduce()\n",
    "        return acfg\n",
    "    \n",
    "    def is_goal(self):\n",
    "        t = m.parseTerm(f'isGoal({self.term.prettyPrint(0)})')\n",
    "        t.reduce()\n",
    "        return t.prettyPrint(0) == 'true'"
   ]
  },
  {
   "cell_type": "code",
   "execution_count": 9,
   "id": "5d503efe",
   "metadata": {},
   "outputs": [
    {
     "name": "stdout",
     "output_type": "stream",
     "text": [
      "[[0, 1, 5], [3, 2, 4], [6, 7, 8]]\n"
     ]
    },
    {
     "ename": "KeyboardInterrupt",
     "evalue": "",
     "output_type": "error",
     "traceback": [
      "\u001b[0;31m---------------------------------------------------------------------------\u001b[0m",
      "\u001b[0;31mKeyboardInterrupt\u001b[0m                         Traceback (most recent call last)",
      "Input \u001b[0;32mIn [9]\u001b[0m, in \u001b[0;36m<cell line: 5>\u001b[0;34m()\u001b[0m\n\u001b[1;32m      5\u001b[0m \u001b[38;5;28;01mwhile\u001b[39;00m \u001b[38;5;129;01mnot\u001b[39;00m done:\n\u001b[1;32m      6\u001b[0m     a \u001b[38;5;241m=\u001b[39m random\u001b[38;5;241m.\u001b[39mchoice(env\u001b[38;5;241m.\u001b[39mget_state()[\u001b[38;5;124m\"\u001b[39m\u001b[38;5;124mnext_acfg\u001b[39m\u001b[38;5;124m\"\u001b[39m])\n\u001b[0;32m----> 7\u001b[0m     state, reward, done \u001b[38;5;241m=\u001b[39m \u001b[43menv\u001b[49m\u001b[38;5;241;43m.\u001b[39;49m\u001b[43mstep\u001b[49m\u001b[43m(\u001b[49m\u001b[43ma\u001b[49m\u001b[43m)\u001b[49m\n\u001b[1;32m      8\u001b[0m     steps \u001b[38;5;241m+\u001b[39m\u001b[38;5;241m=\u001b[39m \u001b[38;5;241m1\u001b[39m\n\u001b[1;32m      9\u001b[0m \u001b[38;5;28mprint\u001b[39m(env\u001b[38;5;241m.\u001b[39mget_state())\n",
      "Input \u001b[0;32mIn [7]\u001b[0m, in \u001b[0;36mMaudeEnv.step\u001b[0;34m(self, action)\u001b[0m\n\u001b[1;32m     27\u001b[0m \u001b[38;5;28;01mif\u001b[39;00m pairs \u001b[38;5;241m==\u001b[39m []:\n\u001b[1;32m     28\u001b[0m     \u001b[38;5;28;01mraise\u001b[39;00m \u001b[38;5;167;01mException\u001b[39;00m(\u001b[38;5;124m\"\u001b[39m\u001b[38;5;124minvalid action\u001b[39m\u001b[38;5;124m\"\u001b[39m)\n\u001b[0;32m---> 29\u001b[0m state \u001b[38;5;241m=\u001b[39m \u001b[38;5;28;43mself\u001b[39;49m\u001b[38;5;241;43m.\u001b[39;49m\u001b[43mreset\u001b[49m\u001b[43m(\u001b[49m\u001b[43mrandom\u001b[49m\u001b[38;5;241;43m.\u001b[39;49m\u001b[43mchoice\u001b[49m\u001b[43m(\u001b[49m\u001b[43mpairs\u001b[49m\u001b[43m)\u001b[49m\u001b[43m[\u001b[49m\u001b[38;5;241;43m0\u001b[39;49m\u001b[43m]\u001b[49m\u001b[43m)\u001b[49m\n\u001b[1;32m     30\u001b[0m reward \u001b[38;5;241m=\u001b[39m \u001b[38;5;241m1\u001b[39m \u001b[38;5;28;01mif\u001b[39;00m \u001b[38;5;28mself\u001b[39m\u001b[38;5;241m.\u001b[39mis_goal() \u001b[38;5;28;01melse\u001b[39;00m \u001b[38;5;241m0\u001b[39m\n\u001b[1;32m     31\u001b[0m done \u001b[38;5;241m=\u001b[39m \u001b[38;5;28;01mTrue\u001b[39;00m \u001b[38;5;28;01mif\u001b[39;00m reward \u001b[38;5;241m==\u001b[39m \u001b[38;5;241m1\u001b[39m \u001b[38;5;129;01mor\u001b[39;00m \u001b[38;5;28mself\u001b[39m\u001b[38;5;241m.\u001b[39mnbrs \u001b[38;5;241m==\u001b[39m [] \u001b[38;5;28;01melse\u001b[39;00m \u001b[38;5;28;01mFalse\u001b[39;00m\n",
      "Input \u001b[0;32mIn [7]\u001b[0m, in \u001b[0;36mMaudeEnv.reset\u001b[0;34m(self, init_term)\u001b[0m\n\u001b[1;32m     11\u001b[0m \u001b[38;5;28mself\u001b[39m\u001b[38;5;241m.\u001b[39mterm \u001b[38;5;241m=\u001b[39m t\n\u001b[1;32m     12\u001b[0m \u001b[38;5;28mself\u001b[39m\u001b[38;5;241m.\u001b[39macfg \u001b[38;5;241m=\u001b[39m \u001b[38;5;28mself\u001b[39m\u001b[38;5;241m.\u001b[39mget_acfg(t)\n\u001b[0;32m---> 13\u001b[0m \u001b[38;5;28mself\u001b[39m\u001b[38;5;241m.\u001b[39mnbrs \u001b[38;5;241m=\u001b[39m [(t,\u001b[38;5;28mself\u001b[39m\u001b[38;5;241m.\u001b[39mget_acfg(t)) \u001b[38;5;28;01mfor\u001b[39;00m t,_,_,_ \u001b[38;5;129;01min\u001b[39;00m t\u001b[38;5;241m.\u001b[39msearch(\u001b[38;5;241m1\u001b[39m, m\u001b[38;5;241m.\u001b[39mparseTerm(\u001b[38;5;124m'\u001b[39m\u001b[38;5;124mX:Conf\u001b[39m\u001b[38;5;124m'\u001b[39m), depth \u001b[38;5;241m=\u001b[39m \u001b[38;5;241m1\u001b[39m)]  \n\u001b[1;32m     14\u001b[0m \u001b[38;5;28mself\u001b[39m\u001b[38;5;241m.\u001b[39mnext_acfg \u001b[38;5;241m=\u001b[39m \u001b[38;5;28mlist\u001b[39m(\u001b[38;5;28mset\u001b[39m([action \u001b[38;5;28;01mfor\u001b[39;00m (_,action) \u001b[38;5;129;01min\u001b[39;00m \u001b[38;5;28mself\u001b[39m\u001b[38;5;241m.\u001b[39mnbrs])) \u001b[38;5;66;03m# remove duplicates\u001b[39;00m\n\u001b[1;32m     15\u001b[0m \u001b[38;5;28;01mreturn\u001b[39;00m \u001b[38;5;28mself\u001b[39m\u001b[38;5;241m.\u001b[39mget_state()\n",
      "Input \u001b[0;32mIn [7]\u001b[0m, in \u001b[0;36m<listcomp>\u001b[0;34m(.0)\u001b[0m\n\u001b[1;32m     11\u001b[0m \u001b[38;5;28mself\u001b[39m\u001b[38;5;241m.\u001b[39mterm \u001b[38;5;241m=\u001b[39m t\n\u001b[1;32m     12\u001b[0m \u001b[38;5;28mself\u001b[39m\u001b[38;5;241m.\u001b[39macfg \u001b[38;5;241m=\u001b[39m \u001b[38;5;28mself\u001b[39m\u001b[38;5;241m.\u001b[39mget_acfg(t)\n\u001b[0;32m---> 13\u001b[0m \u001b[38;5;28mself\u001b[39m\u001b[38;5;241m.\u001b[39mnbrs \u001b[38;5;241m=\u001b[39m [(t,\u001b[38;5;28;43mself\u001b[39;49m\u001b[38;5;241;43m.\u001b[39;49m\u001b[43mget_acfg\u001b[49m\u001b[43m(\u001b[49m\u001b[43mt\u001b[49m\u001b[43m)\u001b[49m) \u001b[38;5;28;01mfor\u001b[39;00m t,_,_,_ \u001b[38;5;129;01min\u001b[39;00m t\u001b[38;5;241m.\u001b[39msearch(\u001b[38;5;241m1\u001b[39m, m\u001b[38;5;241m.\u001b[39mparseTerm(\u001b[38;5;124m'\u001b[39m\u001b[38;5;124mX:Conf\u001b[39m\u001b[38;5;124m'\u001b[39m), depth \u001b[38;5;241m=\u001b[39m \u001b[38;5;241m1\u001b[39m)]  \n\u001b[1;32m     14\u001b[0m \u001b[38;5;28mself\u001b[39m\u001b[38;5;241m.\u001b[39mnext_acfg \u001b[38;5;241m=\u001b[39m \u001b[38;5;28mlist\u001b[39m(\u001b[38;5;28mset\u001b[39m([action \u001b[38;5;28;01mfor\u001b[39;00m (_,action) \u001b[38;5;129;01min\u001b[39;00m \u001b[38;5;28mself\u001b[39m\u001b[38;5;241m.\u001b[39mnbrs])) \u001b[38;5;66;03m# remove duplicates\u001b[39;00m\n\u001b[1;32m     15\u001b[0m \u001b[38;5;28;01mreturn\u001b[39;00m \u001b[38;5;28mself\u001b[39m\u001b[38;5;241m.\u001b[39mget_state()\n",
      "Input \u001b[0;32mIn [7]\u001b[0m, in \u001b[0;36mMaudeEnv.get_acfg\u001b[0;34m(self, t)\u001b[0m\n\u001b[1;32m     34\u001b[0m \u001b[38;5;28;01mdef\u001b[39;00m \u001b[38;5;21mget_acfg\u001b[39m(\u001b[38;5;28mself\u001b[39m, t):\n\u001b[0;32m---> 35\u001b[0m     acfg \u001b[38;5;241m=\u001b[39m \u001b[43mm\u001b[49m\u001b[38;5;241;43m.\u001b[39;49m\u001b[43mparseTerm\u001b[49m\u001b[43m(\u001b[49m\u001b[38;5;124;43m'\u001b[39;49m\u001b[38;5;124;43malpha(\u001b[39;49m\u001b[38;5;124;43m'\u001b[39;49m\u001b[43m \u001b[49m\u001b[38;5;241;43m+\u001b[39;49m\u001b[43m \u001b[49m\u001b[43mt\u001b[49m\u001b[38;5;241;43m.\u001b[39;49m\u001b[43mprettyPrint\u001b[49m\u001b[43m(\u001b[49m\u001b[38;5;241;43m0\u001b[39;49m\u001b[43m)\u001b[49m\u001b[43m \u001b[49m\u001b[38;5;241;43m+\u001b[39;49m\u001b[43m \u001b[49m\u001b[38;5;124;43m'\u001b[39;49m\u001b[38;5;124;43m)\u001b[39;49m\u001b[38;5;124;43m'\u001b[39;49m\u001b[43m)\u001b[49m \u001b[38;5;66;03m# TODO change aconf to acfg\u001b[39;00m\n\u001b[1;32m     36\u001b[0m     acfg\u001b[38;5;241m.\u001b[39mreduce()\n\u001b[1;32m     37\u001b[0m     \u001b[38;5;28;01mreturn\u001b[39;00m acfg\n",
      "File \u001b[0;32m~/.local/lib/python3.10/site-packages/maude/__init__.py:3448\u001b[0m, in \u001b[0;36mModule.parseTerm\u001b[0;34m(self, *args)\u001b[0m\n\u001b[1;32m   3398\u001b[0m \u001b[38;5;28;01mdef\u001b[39;00m \u001b[38;5;21mparseTerm\u001b[39m(\u001b[38;5;28mself\u001b[39m, \u001b[38;5;241m*\u001b[39margs):\n\u001b[1;32m   3399\u001b[0m     \u001b[38;5;124mr\u001b[39m\u001b[38;5;124;03m\"\"\"\u001b[39;00m\n\u001b[1;32m   3400\u001b[0m \u001b[38;5;124;03m    *Overload 1:*\u001b[39;00m\n\u001b[1;32m   3401\u001b[0m \n\u001b[0;32m   (...)\u001b[0m\n\u001b[1;32m   3446\u001b[0m \u001b[38;5;124;03m        annotation in the strategy.\u001b[39;00m\n\u001b[1;32m   3447\u001b[0m \u001b[38;5;124;03m    \"\"\"\u001b[39;00m\n\u001b[0;32m-> 3448\u001b[0m     \u001b[38;5;28;01mreturn\u001b[39;00m \u001b[43m_maude\u001b[49m\u001b[38;5;241;43m.\u001b[39;49m\u001b[43mModule_parseTerm\u001b[49m\u001b[43m(\u001b[49m\u001b[38;5;28;43mself\u001b[39;49m\u001b[43m,\u001b[49m\u001b[43m \u001b[49m\u001b[38;5;241;43m*\u001b[39;49m\u001b[43margs\u001b[49m\u001b[43m)\u001b[49m\n",
      "\u001b[0;31mKeyboardInterrupt\u001b[0m: "
     ]
    }
   ],
   "source": [
    "env = MaudeEnv(st_generator)\n",
    "done = False\n",
    "#print(a)\n",
    "steps = 0\n",
    "while not done:\n",
    "    a = random.choice(env.get_state()[\"next_acfg\"])\n",
    "    state, reward, done = env.step(a)\n",
    "    steps += 1\n",
    "print(env.get_state())\n",
    "print('steps:', steps)"
   ]
  },
  {
   "cell_type": "code",
   "execution_count": 71,
   "id": "50d67f6e",
   "metadata": {},
   "outputs": [],
   "source": [
    "env = MaudeEnv(st_generator)"
   ]
  },
  {
   "cell_type": "code",
   "execution_count": 341,
   "id": "3b7b43e0",
   "metadata": {},
   "outputs": [],
   "source": [
    "class QTable():\n",
    "    def __init__(self):\n",
    "        self.q_init = 0.0\n",
    "        self.q_dict = dict()\n",
    "        \n",
    "    def get_q(self, s, a):\n",
    "        q_init = self.q_init\n",
    "        #row = self.q_dict.get(t1, None)\n",
    "        #if not row == None:\n",
    "        if s in self.q_dict:\n",
    "            return self.q_dict[s].get(a, q_init)\n",
    "        return q_init\n",
    "        \n",
    "    def set_q(self, s, a, q):\n",
    "        # TODO deepcopy terms\n",
    "        if q == 0.0: # TODO\n",
    "            return\n",
    "        elif not s in self.q_dict:\n",
    "            self.q_dict[s] = { a : q }\n",
    "        else:\n",
    "            self.q_dict[s][a] = q\n",
    "        \n",
    "    def argmax_q(self, s, actions): # nbrs: iterable if acfg's\n",
    "        q_dict = self.q_dict\n",
    "        if s in q_dict and len(actions) != 0:\n",
    "            d = { a : q_dict[s].get(a, self.q_init) for a in actions } # d = restriction of q_dict to tl\n",
    "            return max(d, key=d.get) # FIXME: random choice if tie\n",
    "        else:\n",
    "            return -1\n",
    "        \n",
    "    def max_q(self, s):\n",
    "        q_dict = self.q_dict\n",
    "        if s in q_dict: # assume q_dict[t] is nonempty\n",
    "            return max(q_dict[s].values())\n",
    "        return self.q_init\n",
    "    \n",
    "    def get_size(self):\n",
    "        # returns the number of nonzero entries in the QTable\n",
    "        ret = 0\n",
    "        for _, d in self.q_dict.items():\n",
    "            ret += len(d)\n",
    "        return ret\n",
    "    \n",
    "    def print_v(self):\n",
    "        q_dict = self.q_dict\n",
    "        print(f'fmod SCORE is')\n",
    "        for t in q_dict:\n",
    "            print(f'  eq score({t}) = {self.max_q(t)} .')\n",
    "        print(f'  eq score(X) = {self.q_init} [owise] .')\n",
    "        print(f'endfm')        \n",
    "    \n",
    "    def print_q(self):\n",
    "        q_dict = self.q_dict\n",
    "        print('load dp.maude')\n",
    "        print('mod SCORE is')\n",
    "        print('  pr DP5 .')\n",
    "        print('  pr FLOAT .')\n",
    "        print('  op score : AConf AConf -> Float .')\n",
    "        for t1, d in q_dict.items():\n",
    "            for t2, q in d.items():\n",
    "                print(f'  eq score({t1}, {t2}) = {q} .')\n",
    "        print(f'  eq score(X:AConf, Y:AConf) = {self.q_init} [owise] .') # TODO: 0 should be printed 0.0\n",
    "        print(f'endm')\n",
    "        \n",
    "    def get_q_closure(self, states, a):\n",
    "        return max([self.get_q(s,a) for s in states])\n",
    "    \n",
    "    def max_q_closure(self, states):\n",
    "        return max([self.max_q(s) for s in states])\n",
    "    \n",
    "    # def argmax_q_closure"
   ]
  },
  {
   "cell_type": "code",
   "execution_count": 27,
   "id": "1a81019d",
   "metadata": {},
   "outputs": [
    {
     "name": "stdout",
     "output_type": "stream",
     "text": [
      "['up', 'up', 'down', 'left', 'down', 'right', 'up', 'left', 'up', 'right', 'left', 'right', 'left', 'left', 'right', 'down', 'up', 'left', 'right', 'right', 'left', 'down', 'left', 'up', 'down', 'down', 'right', 'right', 'up', 'down', 'up', 'up', 'left', 'down', 'right', 'down', 'left', 'left', 'right', 'up', 'down', 'up', 'down', 'left', 'up', 'down', 'up', 'up', 'down', 'right', 'left', 'up', 'down', 'down', 'right', 'left', 'up', 'up', 'right', 'left', 'right', 'down', 'right', 'down', 'left', 'right', 'left', 'left', 'up', 'up', 'right', 'right', 'left', 'left', 'right', 'right', 'left', 'down', 'down', 'up', 'right', 'down', 'left', 'up', 'down', 'right', 'up', 'up', 'left', 'left', 'down', 'up', 'right', 'right', 'down', 'down', 'up', 'left', 'left', 'up']\n",
      "0.0\n",
      "0.0\n",
      "0.0\n",
      "0.0\n",
      "0.0\n",
      "0.0\n",
      "0.0\n",
      "0.0\n",
      "0.0\n",
      "0.0\n",
      "0.0\n",
      "0.0\n",
      "0.0\n",
      "0.0\n",
      "0.0\n",
      "0.0\n",
      "0.0\n",
      "0.0\n",
      "0.0\n",
      "0.0\n",
      "0.0\n",
      "0.0\n",
      "0.0\n",
      "0.0\n",
      "0.0\n",
      "0.0\n",
      "0.0\n",
      "0.0\n",
      "0.0\n",
      "0.0\n",
      "0.0\n",
      "0.0\n",
      "0.0\n",
      "0.0\n",
      "0.0\n",
      "0.0\n",
      "0.0\n",
      "0.0\n",
      "0.0\n",
      "0.0\n",
      "0.0\n",
      "0.0\n",
      "0.0\n",
      "0.0\n",
      "0.0\n",
      "0.0\n",
      "0.0\n",
      "0.0\n",
      "0.0\n",
      "0.0\n",
      "0.0\n",
      "0.0\n",
      "0.0\n",
      "0.0\n",
      "0.0\n",
      "0.0\n",
      "0.0\n",
      "0.0\n",
      "0.0\n",
      "0.0\n",
      "0.0\n",
      "0.0\n",
      "0.0\n",
      "0.0\n",
      "0.0\n",
      "0.0\n",
      "0.0\n",
      "0.0\n",
      "0.0\n",
      "0.0\n",
      "0.0\n",
      "0.0\n",
      "0.0\n",
      "0.0\n",
      "0.0\n",
      "0.0\n",
      "0.0\n",
      "0.0\n",
      "0.0\n",
      "0.0\n",
      "0.0\n",
      "0.0\n",
      "0.0\n",
      "0.0\n",
      "0.0\n",
      "0.0\n",
      "0.0\n",
      "0.0\n",
      "0.0\n",
      "0.0\n",
      "0.0\n",
      "0.0\n",
      "0.0\n",
      "0.0\n",
      "0.0\n",
      "0.0\n",
      "0.0\n",
      "0.0\n",
      "0.0\n",
      "1.0\n"
     ]
    }
   ],
   "source": [
    "\n",
    "#print(path)\n",
    "#path.reverse()\n",
    "def inverse_action(action):\n",
    "    if action == 'up':\n",
    "        return 'down'\n",
    "    elif action == 'down':\n",
    "        return 'up'\n",
    "    elif action == 'right':\n",
    "        return 'left'\n",
    "    elif action == 'left':\n",
    "        return 'right'\n",
    "\n",
    "def generate_episode():\n",
    "    path = []\n",
    "    t = st_generator(path)\n",
    "    path = list(map(inverse_action, reversed(path)))\n",
    "    return MaudeEnv(None, t), path\n",
    "\n",
    "env, path = generate_episode()\n",
    "print(path)\n",
    "for action in path:\n",
    "    state, reward, done = env.step(action)\n",
    "    print(reward)"
   ]
  },
  {
   "cell_type": "code",
   "execution_count": 342,
   "id": "137fec8c",
   "metadata": {},
   "outputs": [],
   "source": [
    "def pre_train(n_training_episodes, max_steps, qt):\n",
    "    stat = 0\n",
    "    for episode in tqdm(range(n_training_episodes)):\n",
    "        env, path = generate_episode()\n",
    "        state = env.get_state()\n",
    "        #print('path:', path)\n",
    "        \n",
    "        for a in path:\n",
    "            s = state['acfg']\n",
    "            #print('s:',s)\n",
    "            new_state, reward, done = env.step(a)\n",
    "            ns = new_state['acfg']\n",
    "            stat += reward\n",
    "\n",
    "            # Update Q(s,a):= Q(s,a) + lr [R(s,a) + gamma * max Q(s',a') - Q(s,a)]    \n",
    "            new_q = qt.get_q(s, a) + learning_rate * (\n",
    "                reward + gamma * qt.max_q(ns) - qt.get_q(s, a)\n",
    "            )\n",
    "            #print('new_q:', new_q)\n",
    "            qt.set_q(s, a, new_q)\n",
    "\n",
    "            # If terminated or truncated finish the episode\n",
    "            if done:\n",
    "                break\n",
    "\n",
    "            # Our next state is the new state\n",
    "            state = new_state\n",
    "    print('training done!')\n",
    "    return qt, stat\n",
    "\n",
    "def pre_train_closure(n_training_episodes, max_steps, qt):\n",
    "    stat = 0\n",
    "    for episode in tqdm(range(n_training_episodes)):\n",
    "        env, path = generate_episode()\n",
    "        state = env.get_state()\n",
    "        #print('path:', path)\n",
    "        \n",
    "        for a in path:\n",
    "            s = state['acfg']\n",
    "            #print('s:',s)\n",
    "            new_state, reward, done = env.step(a)\n",
    "            ns = new_state['acfg']\n",
    "            stat += reward\n",
    "\n",
    "            # Update Q(s,a):= Q(s,a) + lr [R(s,a) + gamma * max Q(s',a') - Q(s,a)]    \n",
    "            new_q = qt.get_q(s, a) + learning_rate * (\n",
    "                reward + gamma * qt.max_q_closure(get_k_closure(ns,5)) - qt.get_q(s, a)\n",
    "            )\n",
    "            #print('new_q:', new_q)\n",
    "            qt.set_q(s, a, new_q)\n",
    "\n",
    "            # If terminated or truncated finish the episode\n",
    "            if done:\n",
    "                break\n",
    "\n",
    "            # Our next state is the new state\n",
    "            state = new_state\n",
    "    print('training done!')\n",
    "    return qt, stat"
   ]
  },
  {
   "cell_type": "code",
   "execution_count": 177,
   "id": "7117030b",
   "metadata": {},
   "outputs": [],
   "source": [
    "# Training parameters\n",
    "n_training_episodes = 1000  # Total training episodes\n",
    "learning_rate = 0.7  # Learning rate\n",
    "\n",
    "# Evaluation parameters\n",
    "n_eval_episodes = 1000  # Total number of test episodes\n",
    "\n",
    "# Environment parameters\n",
    "#env_id = \"FrozenLake-v1\"  # Name of the environment\n",
    "max_steps = 1000  # Max steps per episode\n",
    "gamma = 0.95  # Discounting rate\n",
    "eval_seed = []  # The evaluation seed of the environment\n",
    "\n",
    "# Exploration parameters\n",
    "max_epsilon = 1.0  # Exploration probability at start\n",
    "min_epsilon = 0.05  # Minimum exploration probability\n",
    "decay_rate = 0.0005  # Exponential decay rate for exploration prob"
   ]
  },
  {
   "cell_type": "code",
   "execution_count": 261,
   "id": "206ef721",
   "metadata": {},
   "outputs": [
    {
     "data": {
      "application/vnd.jupyter.widget-view+json": {
       "model_id": "e4497a0421b04f60b18e024bae10fd96",
       "version_major": 2,
       "version_minor": 0
      },
      "text/plain": [
       "  0%|          | 0/600 [00:00<?, ?it/s]"
      ]
     },
     "metadata": {},
     "output_type": "display_data"
    },
    {
     "name": "stdout",
     "output_type": "stream",
     "text": [
      "training done!\n"
     ]
    }
   ],
   "source": [
    "preQtable = QTable()\n",
    "preQtable, stat = pre_train(600, max_steps, preQtable)"
   ]
  },
  {
   "cell_type": "code",
   "execution_count": 343,
   "id": "9112f375",
   "metadata": {},
   "outputs": [
    {
     "data": {
      "application/vnd.jupyter.widget-view+json": {
       "model_id": "4f3d4f658e474d6b892c3dd08b5cb579",
       "version_major": 2,
       "version_minor": 0
      },
      "text/plain": [
       "  0%|          | 0/600 [00:00<?, ?it/s]"
      ]
     },
     "metadata": {},
     "output_type": "display_data"
    },
    {
     "name": "stdout",
     "output_type": "stream",
     "text": [
      "training done!\n"
     ]
    }
   ],
   "source": [
    "preQtableClosure = QTable()\n",
    "preQtableClosure, stat = pre_train_closure(600, max_steps, preQtableClosure)"
   ]
  },
  {
   "cell_type": "code",
   "execution_count": 344,
   "id": "1dd1bafa",
   "metadata": {},
   "outputs": [
    {
     "data": {
      "text/plain": [
       "600.0"
      ]
     },
     "execution_count": 344,
     "metadata": {},
     "output_type": "execute_result"
    }
   ],
   "source": [
    "stat"
   ]
  },
  {
   "cell_type": "code",
   "execution_count": 263,
   "id": "47a94879",
   "metadata": {},
   "outputs": [
    {
     "data": {
      "text/plain": [
       "2328"
      ]
     },
     "execution_count": 263,
     "metadata": {},
     "output_type": "execute_result"
    }
   ],
   "source": [
    "preQtable.get_size()"
   ]
  },
  {
   "cell_type": "code",
   "execution_count": 345,
   "id": "0b92a991",
   "metadata": {},
   "outputs": [
    {
     "data": {
      "text/plain": [
       "4314"
      ]
     },
     "execution_count": 345,
     "metadata": {},
     "output_type": "execute_result"
    }
   ],
   "source": [
    "preQtableClosure.get_size()"
   ]
  },
  {
   "cell_type": "code",
   "execution_count": 317,
   "id": "074a845e",
   "metadata": {},
   "outputs": [
    {
     "name": "stdout",
     "output_type": "stream",
     "text": [
      "q: 0.0\n",
      "81\n",
      "q_closure: 0.6983369113499565\n"
     ]
    }
   ],
   "source": [
    "t = st_generator(n_shuffles=50)\n",
    "s = get_acfg(t)\n",
    "#s = m.parseTerm('tile(zero, 0, 0) tile(stay, 0, 2) tile(stay, 1, 2) tile(stay, 2, 2) tile(up, 1, 1) tile(left, 2, 1) tile(upRight, 2, 0) tile(downLeft, 0, 1) tile(downRight, 1, 0)')\n",
    "#s.reduce()\n",
    "print('q:', Qtable.get_q(s,'right'))\n",
    "states = get_k_closure(s,5)\n",
    "print(len(states))\n",
    "print('q_closure:', Qtable.get_q_closure(states,'right'))"
   ]
  },
  {
   "cell_type": "code",
   "execution_count": 348,
   "id": "3f929837",
   "metadata": {},
   "outputs": [],
   "source": [
    "import heapq\n",
    "\n",
    "class TermWrapper():\n",
    "    def __init__(self,t):\n",
    "        self.t = t\n",
    "        \n",
    "    def __lt__(self, other):\n",
    "        return 0\n",
    "\n",
    "# BFS with heuristics given by abstract Q table\n",
    "def search(t, mode=1, max_step=10000, qt=None):\n",
    "    #if not qt is None:\n",
    "    #    heuristics = True\n",
    "    #else:\n",
    "    #    heuristics = False\n",
    "    #t = st_generator(n_shuffles=300) #TODO move to argument\n",
    "    visited = set()\n",
    "    i = 0\n",
    "    queue = [(i,TermWrapper(t))] # (priority, concrete_state)\n",
    "    \n",
    "    while not queue == [] and i < max_step:\n",
    "        t = heapq.heappop(queue)[1].t\n",
    "        #print(t)\n",
    "        if t in visited:\n",
    "            continue\n",
    "        i += 1\n",
    "        visited.add(t)\n",
    "        s = get_acfg(t)\n",
    "        if is_goal(t):\n",
    "            #print('goal reached!')\n",
    "            #print('t:', t)\n",
    "            #print('num steps:', i)\n",
    "            break\n",
    "        # nbrs = [(v, av) for (a, v, av) in env.next_actions if not v in visited] # unvisited next vecs\n",
    "        if mode == 0: # bfs\n",
    "            p_nbrs = [(i, TermWrapper(nt)) for (nt, a) in get_nbrs(t)]\n",
    "            #p_nbrs = [(i, v) for (v, av) in nbrs] # prioritized nbrs\n",
    "        elif mode == 1: # qhs\n",
    "            p_nbrs = [(-qt.get_q(s, a), TermWrapper(nt)) for (nt, a) in get_nbrs(t)] # prioritized nbrs\n",
    "            #print(p_nbrs)\n",
    "        elif mode == 2 : # qhs with closure\n",
    "            p_nbrs = [(-qt.get_q_closure(get_k_closure(s,5), a), TermWrapper(nt)) for (nt, a) in get_nbrs(t)] # prioritized nbrs\n",
    "        #print(p_nbrs)\n",
    "        for item in p_nbrs:\n",
    "            heapq.heappush(queue, item) # queue,item\n",
    "    return i"
   ]
  },
  {
   "cell_type": "code",
   "execution_count": 361,
   "id": "dfd77fcc",
   "metadata": {},
   "outputs": [
    {
     "name": "stdout",
     "output_type": "stream",
     "text": [
      "test 0\n",
      "test 1\n",
      "test 2\n",
      "test 3\n",
      "test 4\n",
      "test 5\n",
      "test 6\n",
      "test 7\n",
      "test 8\n",
      "test 9\n",
      "test 10\n",
      "test 11\n",
      "test 12\n",
      "test 13\n",
      "test 14\n",
      "test 15\n",
      "test 16\n",
      "test 17\n",
      "test 18\n",
      "test 19\n",
      "test 20\n",
      "test 21\n",
      "test 22\n",
      "test 23\n",
      "test 24\n",
      "test 25\n",
      "test 26\n",
      "test 27\n",
      "test 28\n",
      "test 29\n",
      "test 30\n",
      "test 31\n",
      "test 32\n",
      "test 33\n",
      "test 34\n",
      "test 35\n",
      "test 36\n",
      "test 37\n",
      "test 38\n",
      "test 39\n",
      "test 40\n",
      "test 41\n",
      "test 42\n",
      "test 43\n",
      "test 44\n",
      "test 45\n",
      "test 46\n",
      "test 47\n",
      "test 48\n",
      "test 49\n",
      "test 50\n",
      "test 51\n",
      "test 52\n",
      "test 53\n",
      "test 54\n",
      "test 55\n",
      "test 56\n",
      "test 57\n",
      "test 58\n",
      "test 59\n",
      "test 60\n",
      "test 61\n",
      "test 62\n",
      "test 63\n",
      "test 64\n",
      "test 65\n",
      "test 66\n",
      "test 67\n",
      "test 68\n",
      "test 69\n",
      "test 70\n",
      "test 71\n",
      "test 72\n",
      "test 73\n",
      "test 74\n",
      "test 75\n",
      "test 76\n",
      "test 77\n",
      "test 78\n",
      "test 79\n",
      "test 80\n",
      "test 81\n",
      "test 82\n",
      "test 83\n",
      "test 84\n",
      "test 85\n",
      "test 86\n",
      "test 87\n",
      "test 88\n",
      "test 89\n",
      "test 90\n",
      "test 91\n",
      "test 92\n",
      "test 93\n",
      "test 94\n",
      "test 95\n",
      "test 96\n",
      "test 97\n",
      "test 98\n",
      "test 99\n",
      "=== stat 1 ===\n",
      "[259, 302, 1575, 115, 117, 751, 3261, 1417, 102, 716, 49, 956, 506, 1707, 1273, 998, 691, 196, 633, 309, 149, 25, 1681, 455, 362, 1197, 58, 136, 1265, 290, 183, 1160, 1413, 511, 118, 570, 231, 40, 94, 688, 807, 1972, 965, 339, 441, 106, 622, 192, 768, 1342, 1178, 1448, 36, 53, 1482, 21, 708, 287, 1525, 110, 576, 98, 487, 860, 139, 583, 326, 744, 1554, 1250, 139, 1535, 226, 545, 2046, 2760, 1122, 295, 1264, 856, 1348, 224, 363, 1671, 916, 62, 188, 214, 2698, 1816, 1680, 1052, 974, 1329, 355, 649, 1309, 44, 394, 78]\n",
      "=== stat 2 ===\n",
      "[1195, 392, 334, 117, 373, 91, 92, 290, 673, 128, 157, 258, 47, 392, 164, 266, 1569, 188, 244, 279, 392, 66, 60, 242, 320, 586, 172, 161, 112, 314, 202, 203, 292, 223, 1076, 68, 260, 39, 143, 88, 309, 251, 174, 189, 249, 236, 69, 133, 1033, 298, 175, 363, 65, 47, 308, 21, 113, 70, 282, 68, 424, 94, 280, 331, 107, 920, 598, 168, 104, 1394, 172, 493, 416, 378, 360, 78, 127, 992, 1420, 122, 437, 620, 69, 182, 664, 50, 178, 530, 135, 163, 285, 1098, 435, 1512, 425, 304, 251, 38, 136, 316]\n"
     ]
    }
   ],
   "source": [
    "# evaluation of search with various modes\n",
    "N = 100\n",
    "stat_1 = []\n",
    "stat_2 = []\n",
    "i = 0\n",
    "while i < N:\n",
    "    print(f'test {i}')\n",
    "    t = st_generator(n_shuffles=1000)\n",
    "    #search(t, 0,100000) # very slow!\n",
    "    stat_1.append(search(t, 1, 100000, preQtable))\n",
    "    stat_2.append(search(t, 2, 100000, preQtableClosure))\n",
    "    i += 1\n",
    "print('=== stat 1 ===')\n",
    "print(stat_1)\n",
    "print('=== stat 2 ===')\n",
    "print(stat_2)"
   ]
  },
  {
   "cell_type": "code",
   "execution_count": 363,
   "id": "e64a9bb7",
   "metadata": {},
   "outputs": [
    {
     "name": "stdout",
     "output_type": "stream",
     "text": [
      "stat1 mean: 757.3\n",
      "stat1 std: 668.5020194434719\n",
      "stat2 mean: 335.27\n",
      "stat2 std: 336.34443224171264\n"
     ]
    }
   ],
   "source": [
    "s1 = np.array(stat_1)\n",
    "print('stat1 mean:', np.mean(s1))\n",
    "print('stat1 std:', np.std(s1))\n",
    "s2 = np.array(stat_2)\n",
    "print('stat2 mean:', np.mean(s2))\n",
    "print('stat2 std:', np.std(s2))"
   ]
  },
  {
   "cell_type": "code",
   "execution_count": 167,
   "id": "de839fad",
   "metadata": {},
   "outputs": [],
   "source": [
    "def greedy_policy(Qt, state):\n",
    "    # Exploitation: take the action with the highest state, action value\n",
    "    t = state[\"acfg\"]\n",
    "    actions = state[\"actions\"]\n",
    "    return Qt.argmax_q(t,actions)\n",
    "\n",
    "def eps_greedy_policy(Qtable, state, epsilon):\n",
    "    random_num = random.uniform(0, 1)\n",
    "    if random_num > epsilon: # exploitation\n",
    "        return greedy_policy(Qtable, state)\n",
    "    else: # exploration\n",
    "        actions = state[\"actions\"]\n",
    "        if len(actions) != 0:\n",
    "            return random.choice(actions)\n",
    "        else:\n",
    "            return -1\n",
    "\n",
    "        \n",
    "def train(n_training_episodes, min_epsilon, max_epsilon, decay_rate, env, max_steps, qt):\n",
    "    stat = 0\n",
    "    for episode in tqdm(range(n_training_episodes)):\n",
    "        # Reduce epsilon (because we need less and less exploration)\n",
    "        epsilon = min_epsilon + (max_epsilon - min_epsilon) * np.exp(-decay_rate * episode)\n",
    "        # Reset the environment\n",
    "        state = env.reset()\n",
    "        step = 0\n",
    "        done = False\n",
    "\n",
    "        # repeat\n",
    "        for step in range(max_steps):\n",
    "            # Choose the action At using epsilon greedy policy\n",
    "            s = state[\"acfg\"]\n",
    "            a = eps_greedy_policy(qt, state, epsilon)\n",
    "            \n",
    "            # assert action not -1\n",
    "            if type(a) == type(-1):\n",
    "                break\n",
    "\n",
    "            # Take action At and observe Rt+1 and St+1\n",
    "            # Take the action (a) and observe the outcome state(s') and reward (r)\n",
    "            #print('episode:', episode, 'step:', step, 'a:',a)\n",
    "            new_state, reward, done = env.step(a)\n",
    "            ns = new_state['acfg']\n",
    "            stat += reward\n",
    "\n",
    "            # Update Q(s,a):= Q(s,a) + lr [R(s,a) + gamma * max Q(s',a') - Q(s,a)]\n",
    "\n",
    "            #Qtable[s][a] = Qtable[s][a] + learning_rate * (\n",
    "            #    reward + gamma * np.max(Qtable[a]) - Qtable[s][a]\n",
    "            #)\n",
    "            \n",
    "            new_q = qt.get_q(s, a) + learning_rate * (\n",
    "                reward + gamma * qt.max_q(ns) - qt.get_q(s, a) # FIXME!!!!! max_q(s')!!!!\n",
    "            )\n",
    "            qt.set_q(s, a, new_q)\n",
    "\n",
    "            # If terminated or truncated finish the episode\n",
    "            if done:\n",
    "                break\n",
    "\n",
    "            # Our next state is the new state\n",
    "            state = new_state\n",
    "    print('training done!')\n",
    "    return qt, stat"
   ]
  },
  {
   "cell_type": "code",
   "execution_count": 219,
   "id": "5204f6f6",
   "metadata": {},
   "outputs": [
    {
     "name": "stdout",
     "output_type": "stream",
     "text": [
      "=== Pre-Training ===\n"
     ]
    },
    {
     "data": {
      "application/vnd.jupyter.widget-view+json": {
       "model_id": "ce3a25c2b4e742cd90b654734567ae47",
       "version_major": 2,
       "version_minor": 0
      },
      "text/plain": [
       "  0%|          | 0/300 [00:00<?, ?it/s]"
      ]
     },
     "metadata": {},
     "output_type": "display_data"
    },
    {
     "name": "stdout",
     "output_type": "stream",
     "text": [
      "training done!\n",
      "stat: 300.0\n",
      "Q-size: 1261\n",
      "=== Training ===\n"
     ]
    },
    {
     "data": {
      "application/vnd.jupyter.widget-view+json": {
       "model_id": "59abb01ea7914556854879dad24d9a02",
       "version_major": 2,
       "version_minor": 0
      },
      "text/plain": [
       "  0%|          | 0/5000 [00:00<?, ?it/s]"
      ]
     },
     "metadata": {},
     "output_type": "display_data"
    },
    {
     "name": "stdout",
     "output_type": "stream",
     "text": [
      "training done!\n",
      "stat: 287.0\n",
      "Q-size: 1432\n"
     ]
    }
   ],
   "source": [
    "# train Qtable\n",
    "env = MaudeEnv(st_generator)\n",
    "\n",
    "Qtable = QTable()\n",
    "\n",
    "print(\"=== Pre-Training ===\")\n",
    "Qtable, stat = pre_train(300, max_steps, Qtable)\n",
    "print('stat:', stat)\n",
    "print('Q-size:', Qtable.get_size())\n",
    "\n",
    "print(\"=== Training ===\")\n",
    "Qtable, stat = train(5000, min_epsilon, max_epsilon, decay_rate, env, max_steps, Qtable)\n",
    "print('stat:', stat)\n",
    "print('Q-size:', Qtable.get_size())"
   ]
  },
  {
   "cell_type": "code",
   "execution_count": 173,
   "id": "141f5ddf",
   "metadata": {},
   "outputs": [],
   "source": [
    "#import copy\n",
    "#tmp_Qtable = copy.deepcopy(Qtable)"
   ]
  },
  {
   "cell_type": "code",
   "execution_count": 218,
   "id": "b4eff058",
   "metadata": {},
   "outputs": [
    {
     "data": {
      "text/plain": [
       "1480"
      ]
     },
     "execution_count": 218,
     "metadata": {},
     "output_type": "execute_result"
    }
   ],
   "source": [
    "Qtable.get_size()"
   ]
  },
  {
   "cell_type": "code",
   "execution_count": 179,
   "id": "c6f430a3",
   "metadata": {},
   "outputs": [
    {
     "data": {
      "text/plain": [
       "0"
      ]
     },
     "execution_count": 179,
     "metadata": {},
     "output_type": "execute_result"
    }
   ],
   "source": [
    "tmp_Qtable.get_size()"
   ]
  },
  {
   "cell_type": "code",
   "execution_count": null,
   "id": "fbf9eb7e",
   "metadata": {},
   "outputs": [],
   "source": []
  },
  {
   "cell_type": "code",
   "execution_count": null,
   "id": "df928f06",
   "metadata": {},
   "outputs": [],
   "source": [
    "class MaudeEnv():\n",
    "    def __init__(self, g=None, init_term=None):\n",
    "        self.conf_gen = g\n",
    "        self.reset(init_term)\n",
    "        \n",
    "    def reset(self, init_term=None):\n",
    "        if init_term == None:\n",
    "            t = self.conf_gen()\n",
    "        else:\n",
    "            t = init_term\n",
    "        self.term = t\n",
    "        self.acfg = self.get_acfg(t)\n",
    "        self.nbrs = [(t,self.get_acfg(t)) for t,_,_,_ in t.search(1, m.parseTerm('X:Conf'), depth = 1)]  \n",
    "        self.next_acfg = list(set([action for (_,action) in self.nbrs])) # remove duplicates\n",
    "        return self.get_state() \n",
    "    \n",
    "    def get_state(self):\n",
    "        return {\n",
    "            'term' : self.term,\n",
    "            'acfg' : self.acfg,\n",
    "            'nbrs' : self.nbrs,\n",
    "            'next_acfg' : self.next_acfg,\n",
    "        }\n",
    "        \n",
    "    def step(self, action):\n",
    "        pairs = [(term, acfg) for (term,acfg) in self.nbrs if acfg == action]\n",
    "        if pairs == []:\n",
    "            raise Exception(\"invalid action\")\n",
    "        state = self.reset(random.choice(pairs)[0])\n",
    "        reward = 1 if self.is_goal() else 0\n",
    "        done = True if reward == 1 or self.nbrs == [] else False\n",
    "        return state, reward, done\n",
    "    \n",
    "    def get_acfg(self, t):\n",
    "        acfg = m.parseTerm('alpha(' + t.prettyPrint(0) + ')') # TODO change aconf to acfg\n",
    "        acfg.reduce()\n",
    "        return acfg\n",
    "    \n",
    "    def is_goal(self):\n",
    "        t = m.parseTerm(f'isGoal({self.term.prettyPrint(0)})')\n",
    "        t.reduce()\n",
    "        return t.prettyPrint(0) == 'true'"
   ]
  }
 ],
 "metadata": {
  "kernelspec": {
   "display_name": "Python 3 (ipykernel)",
   "language": "python",
   "name": "python3"
  },
  "language_info": {
   "codemirror_mode": {
    "name": "ipython",
    "version": 3
   },
   "file_extension": ".py",
   "mimetype": "text/x-python",
   "name": "python",
   "nbconvert_exporter": "python",
   "pygments_lexer": "ipython3",
   "version": "3.10.12"
  }
 },
 "nbformat": 4,
 "nbformat_minor": 5
}
